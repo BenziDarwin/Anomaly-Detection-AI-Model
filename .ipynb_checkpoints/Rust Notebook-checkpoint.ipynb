{
 "cells": [
  {
   "cell_type": "markdown",
   "id": "1afde7fc",
   "metadata": {},
   "source": [
    "## Add project dependencies"
   ]
  },
  {
   "cell_type": "code",
   "execution_count": 50,
   "id": "fb71df85-3d95-41bc-8234-344b440a0b3c",
   "metadata": {
    "vscode": {
     "languageId": "rust"
    }
   },
   "outputs": [],
   "source": [
    ":dep csv = { version = \"1.1\" }\n",
    ":dep ndarray = { version = \"0.15.6\" }\n",
    ":dep linfa = { version = \"0.7.0\" }\n",
    ":dep linfa-trees = { version = \"0.7\" }\n",
    ":dep ndarray-rand = { version = \"0.15.0\" }\n",
    ":dep plotters = { version = \"0.3.7\" }\n",
    ":dep bincode = {version = \"1.3.3\"}\n",
    ":dep serde = { version = \"1.0\", features = [\"derive\"] }\n",
    "\n",
    "use csv::ReaderBuilder;\n",
    "use ndarray::{Array1, Array2, s};\n",
    "use linfa::prelude::*;\n",
    "use linfa_trees::DecisionTree;\n",
    "use std::collections::HashMap;\n",
    "use std::error::Error;\n",
    "use std::fs::File;\n",
    "use std::io::Write;\n",
    "use serde::Serialize;\n"
   ]
  },
  {
   "cell_type": "markdown",
   "id": "e227c867",
   "metadata": {
    "vscode": {
     "languageId": "rust"
    }
   },
   "source": [
    "## Encode Labels"
   ]
  },
  {
   "cell_type": "code",
   "execution_count": 44,
   "id": "46e7b5eb-9797-4bdc-bc3d-d2c31d90cd76",
   "metadata": {
    "vscode": {
     "languageId": "rust"
    }
   },
   "outputs": [],
   "source": [
    "// Function to map labels to numeric values for classification\n",
    "fn encode_labels(labels: Vec<String>) -> (Array1<usize>, HashMap<String, usize>) {\n",
    "    let mut label_map = HashMap::new();\n",
    "    let mut current_label = 0;\n",
    "    let encoded_labels: Vec<usize> = labels\n",
    "        .into_iter()\n",
    "        .map(|label| {\n",
    "            *label_map.entry(label).or_insert_with(|| {\n",
    "                let val = current_label;\n",
    "                current_label += 1;\n",
    "                val\n",
    "            })\n",
    "        })\n",
    "        .collect();\n",
    "    let array = Array1::from_vec(encoded_labels);\n",
    "    (array, label_map)\n",
    "}"
   ]
  },
  {
   "cell_type": "markdown",
   "id": "bdd4947b",
   "metadata": {},
   "source": [
    "## Read CSV to ndarray"
   ]
  },
  {
   "cell_type": "code",
   "execution_count": 45,
   "id": "92ec2bbf",
   "metadata": {
    "vscode": {
     "languageId": "rust"
    }
   },
   "outputs": [],
   "source": [
    "// Function to read CSV into an ndarray with chunked reading\n",
    "fn read_csv_to_ndarray(file_path: &str) -> Result<(Array2<f64>, Vec<String>), Box<dyn Error>> {\n",
    "    let mut reader = ReaderBuilder::new()\n",
    "        .has_headers(true)\n",
    "        .from_path(file_path)?;\n",
    "    \n",
    "    // Pre-allocate vectors with capacity\n",
    "    let mut features = Vec::new();\n",
    "    let mut labels = Vec::new();\n",
    "    let mut row_count = 0;\n",
    "    \n",
    "    // First pass to count rows and columns\n",
    "    for result in reader.records() {\n",
    "        let record = result?;\n",
    "        row_count += 1;\n",
    "        if row_count == 1 {\n",
    "            // Pre-allocate based on first row\n",
    "            let col_count = record.len() - 1;\n",
    "            features = Vec::with_capacity(row_count * col_count);\n",
    "            labels = Vec::with_capacity(row_count);\n",
    "        }\n",
    "        \n",
    "        let row: Vec<f64> = record\n",
    "            .iter()\n",
    "            .take(record.len() - 1)\n",
    "            .filter_map(|field| field.parse::<f64>().ok())\n",
    "            .collect();\n",
    "            \n",
    "        if row.len() == record.len() - 1 {\n",
    "            features.extend(row);\n",
    "            labels.push(record[record.len() - 1].to_string());\n",
    "        }\n",
    "    }\n",
    "\n",
    "    let num_cols = if !features.is_empty() { features.len() / labels.len() } else { 0 };\n",
    "    let feature_array = Array2::from_shape_vec((labels.len(), num_cols), features)?;\n",
    "    \n",
    "    Ok((feature_array, labels))\n",
    "}"
   ]
  },
  {
   "cell_type": "markdown",
   "id": "6ec5b040",
   "metadata": {
    "vscode": {
     "languageId": "rust"
    }
   },
   "source": [
    "## Split Data into Training and Testing Sets"
   ]
  },
  {
   "cell_type": "code",
   "execution_count": 46,
   "id": "f7d501db",
   "metadata": {
    "vscode": {
     "languageId": "rust"
    }
   },
   "outputs": [],
   "source": [
    "// Function to split data into training and testing sets\n",
    "fn split_data(data: Array2<f64>, targets: Array1<usize>) -> (Array2<f64>, Array1<usize>, Array2<f64>, Array1<usize>) {\n",
    "    let num_samples = data.nrows();\n",
    "    let split_at = (num_samples as f64 * 0.8) as usize;\n",
    "    \n",
    "    let x_train = data.slice(s![..split_at, ..]).to_owned();\n",
    "    let y_train = targets.slice(s![..split_at]).to_owned();\n",
    "    let x_test = data.slice(s![split_at.., ..]).to_owned();\n",
    "    let y_test = targets.slice(s![split_at..]).to_owned();\n",
    "    \n",
    "    (x_train, y_train, x_test, y_test)\n",
    "}"
   ]
  },
  {
   "cell_type": "markdown",
   "id": "9dbc2ae0",
   "metadata": {
    "vscode": {
     "languageId": "rust"
    }
   },
   "source": [
    "## Setting up the pipline"
   ]
  },
  {
   "cell_type": "code",
   "execution_count": 47,
   "id": "dc1c8a76",
   "metadata": {
    "vscode": {
     "languageId": "rust"
    }
   },
   "outputs": [],
   "source": [
    "fn run_main() -> Result<DecisionTree<f64, usize>, Box<dyn Error>> {\n",
    "    let file_path = \"data/train.csv\";\n",
    "    \n",
    "    println!(\"Reading data from CSV...\");\n",
    "    let (data, labels) = read_csv_to_ndarray(file_path)?;\n",
    "    \n",
    "    println!(\"Encoding labels...\");\n",
    "    let (encoded_labels, label_map) = encode_labels(labels);\n",
    "    \n",
    "    println!(\"Splitting data...\");\n",
    "    let (x_train, y_train, x_test, y_test) = split_data(data, encoded_labels);\n",
    "    \n",
    "    println!(\"Creating datasets...\");\n",
    "    let train_dataset = Dataset::from((x_train, y_train));\n",
    "    let test_dataset = Dataset::from((x_test, y_test));\n",
    "    \n",
    "    println!(\"Training model...\");\n",
    "    let model = DecisionTree::params()\n",
    "        .max_depth(Some(10)) // Limit tree depth to prevent stack overflow\n",
    "        .min_weight_leaf(1.0)\n",
    "        .fit(&train_dataset)\n",
    "        .expect(\"Failed to train model\");\n",
    "    \n",
    "    println!(\"Making predictions...\");\n",
    "    let predictions = model.predict(&test_dataset);\n",
    "    \n",
    "    let accuracy = predictions\n",
    "        .iter()\n",
    "        .zip(test_dataset.targets().iter())\n",
    "        .filter(|(&pred, &actual)| pred == actual)\n",
    "        .count() as f64\n",
    "        / test_dataset.targets().len() as f64;\n",
    "    \n",
    "    println!(\"Model accuracy: {:.2}%\", accuracy * 100.0);\n",
    "    println!(\"Label encoding map: {:?}\", label_map);\n",
    "    \n",
    "    // Return the trained model\n",
    "    Ok(model)\n",
    "}\n"
   ]
  },
  {
   "cell_type": "code",
   "execution_count": 48,
   "id": "82d02e7b-c8df-4a72-abe9-ed3356ba8410",
   "metadata": {
    "vscode": {
     "languageId": "rust"
    }
   },
   "outputs": [
    {
     "name": "stdout",
     "output_type": "stream",
     "text": [
      "Reading data from CSV...\n",
      "Encoding labels...\n",
      "Splitting data...\n",
      "Creating datasets...\n",
      "Training model...\n",
      "Making predictions...\n",
      "Model accuracy: 99.65%\n",
      "Label encoding map: {\"DDoS\": 1, \"BENIGN\": 0}\n"
     ]
    }
   ],
   "source": [
    "let model = run_main().unwrap();"
   ]
  },
  {
   "cell_type": "markdown",
   "id": "63bc1c05",
   "metadata": {},
   "source": [
    "## Export model"
   ]
  },
  {
   "cell_type": "code",
   "execution_count": null,
   "id": "026bb564",
   "metadata": {
    "vscode": {
     "languageId": "rust"
    }
   },
   "outputs": [],
   "source": []
  }
 ],
 "metadata": {
  "kernelspec": {
   "display_name": "Rust",
   "language": "rust",
   "name": "rust"
  },
  "language_info": {
   "codemirror_mode": "rust",
   "file_extension": ".rs",
   "mimetype": "text/rust",
   "name": "Rust",
   "pygment_lexer": "rust",
   "version": ""
  }
 },
 "nbformat": 4,
 "nbformat_minor": 5
}
